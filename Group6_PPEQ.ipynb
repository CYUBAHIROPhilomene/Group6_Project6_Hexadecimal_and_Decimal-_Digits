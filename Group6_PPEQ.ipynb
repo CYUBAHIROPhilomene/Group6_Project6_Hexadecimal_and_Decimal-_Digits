{
 "cells": [
  {
   "cell_type": "markdown",
   "id": "518025a6-47e0-410e-bb8e-97a073f8fd5b",
   "metadata": {},
   "source": [
    "![AIMS Logo](https://aims.ac.rw/wp-content/uploads/sites/7/2020/10/AIMS-RWANDA-logo-PRINT-RGB.jpg)"
   ]
  },
  {
   "cell_type": "markdown",
   "id": "9116f090-ef82-450e-b483-0038e90cdb30",
   "metadata": {},
   "source": [
    "<center></center>"
   ]
  },
  {
   "cell_type": "code",
   "execution_count": 1,
   "id": "ce8a68dd",
   "metadata": {},
   "outputs": [],
   "source": [
    "def hex2int(hex_str):\n",
    "    \"\"\"\n",
    "    This function convert a hexadecimal string to a decimal integer.\n",
    "\n",
    "    input :\n",
    "    hex_string (str): A string containing one or more hexadecimal digits (0-9, A-F, a-f).\n",
    "\n",
    "    Output:\n",
    "    int: The corresponding decimal integer value.\n",
    "\n",
    "    Raises:\n",
    "    ValueError: If the input string contains invalid hexadecimal digits.\n",
    "    \"\"\"\n",
    "    hex_str = hex_str.upper()\n",
    "    hex_digits = \"0123456789ABCDEF\"\n",
    "    \n",
    "    result = 0\n",
    "    \n",
    "    if len(hex_str) == 0:\n",
    "        return \"Empty values\"\n",
    "    \n",
    "    for i, char in enumerate(hex_str):\n",
    "        if char not in hex_digits:\n",
    "            raise ValueError(f\"'{char}' is not a valid hex digit\")\n",
    "        \n",
    "        digit_value = hex_digits.index(char)\n",
    "        power = len(hex_str) - 1 - i    \n",
    "        result += digit_value * (16 ** power)\n",
    "    \n",
    "    return result\n",
    "\n",
    "def int2hex(number):\n",
    "    \"\"\"\n",
    "    This function convert a non-negative integer to its hexadecimal string representation (uppercase).\n",
    "\n",
    "    input :\n",
    "    num (int): An integer greater or equal to 0.\n",
    "\n",
    "    Output:\n",
    "    str: The hexadecimal string representing the integer.\n",
    "\n",
    "    Raises:\n",
    "    TypeError: If the input is not an integer.\n",
    "    \"\"\"\n",
    "    \n",
    "    if not number.isdigit():\n",
    "        raise TypeError(\"Input must be an integer\")\n",
    "    \n",
    "    number = int(number)\n",
    "    if number == 0:\n",
    "        return \"0\"\n",
    "    \n",
    "    hex_digits = \"0123456789ABCDEF\"\n",
    "    result = \"\"\n",
    "    \n",
    "    n = number\n",
    "    while n > 0:\n",
    "        remainder = n % 16\n",
    "        hex_digit = hex_digits[remainder]\n",
    "        result = hex_digit + result\n",
    "        n = n // 16\n",
    "    \n",
    "    return result"
   ]
  },
  {
   "cell_type": "code",
   "execution_count": 2,
   "id": "892e75f2",
   "metadata": {},
   "outputs": [
    {
     "name": "stdout",
     "output_type": "stream",
     "text": [
      "Hexadecimal and Decimal Converter\n",
      "========================================\n",
      "\n",
      "Choose an option:\n",
      "1. Hexadecimal to Decimal\n",
      "2. Decimal to Hexadecimal\n",
      "3. Exit\n",
      "Enter your choice (1-3): 1\n",
      "Enter hexadecimal number: \n",
      "Hexadecimal '' = Decimal Empty values\n",
      "\n",
      "Choose an option:\n",
      "1. Hexadecimal to Decimal\n",
      "2. Decimal to Hexadecimal\n",
      "3. Exit\n",
      "Enter your choice (1-3): 3\n",
      "Exiting the program!!!!!!!!!\n"
     ]
    }
   ],
   "source": [
    "print(\"Hexadecimal and Decimal Converter\")\n",
    "print(\"=\" * 40)\n",
    "\n",
    "while True:\n",
    "    print(\"\\nChoose an option:\")\n",
    "    print(\"1. Hexadecimal to Decimal\")\n",
    "    print(\"2. Decimal to Hexadecimal\") \n",
    "    print(\"3. Exit\")\n",
    "    \n",
    "    choice = input(\"Enter your choice (1-3): \")\n",
    "    \n",
    "    if choice == '1':\n",
    "        hex_input = input(\"Enter hexadecimal number: \")\n",
    "        try:\n",
    "            result = hex2int(hex_input)\n",
    "            print(f\"Hexadecimal '{hex_input}' = Decimal {result}\")\n",
    "        except ValueError as e:\n",
    "            print(f\"Error: {e}\")\n",
    "    \n",
    "    elif choice == '2':\n",
    "        dec_input = input(\"Enter decimal number: \")\n",
    "        try:\n",
    "            result = int2hex(dec_input)\n",
    "            print(f\"Decimal {dec_input} = Hexadecimal '{result}'\")\n",
    "        except (ValueError, TypeError) as e:\n",
    "            print(f\"Error: {e}\")\n",
    "\n",
    "    \n",
    "    elif choice == '3':\n",
    "        print(\"Exiting the program!!!!!!!!!\")\n",
    "        break\n",
    "    \n",
    "    else:\n",
    "        print(\"Invalid choice. Please enter 1, 2, or 3.\")"
   ]
  },
  {
   "cell_type": "code",
   "execution_count": null,
   "id": "4d53ce7d",
   "metadata": {},
   "outputs": [],
   "source": []
  }
 ],
 "metadata": {
  "kernelspec": {
   "display_name": "Python 3 (ipykernel)",
   "language": "python",
   "name": "python3"
  },
  "language_info": {
   "codemirror_mode": {
    "name": "ipython",
    "version": 3
   },
   "file_extension": ".py",
   "mimetype": "text/x-python",
   "name": "python",
   "nbconvert_exporter": "python",
   "pygments_lexer": "ipython3",
   "version": "3.11.2"
  }
 },
 "nbformat": 4,
 "nbformat_minor": 5
}
